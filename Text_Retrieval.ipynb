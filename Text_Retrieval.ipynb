{
  "nbformat": 4,
  "nbformat_minor": 0,
  "metadata": {
    "colab": {
      "provenance": [],
      "toc_visible": true,
      "authorship_tag": "ABX9TyPG7VJyGORMRNpMdHhzNT7O",
      "include_colab_link": true
    },
    "kernelspec": {
      "name": "python3",
      "display_name": "Python 3"
    },
    "language_info": {
      "name": "python"
    },
    "widgets": {
      "application/vnd.jupyter.widget-state+json": {
        "b760fc417d1a4296830246752c632b11": {
          "model_module": "@jupyter-widgets/controls",
          "model_name": "HBoxModel",
          "model_module_version": "1.5.0",
          "state": {
            "_dom_classes": [],
            "_model_module": "@jupyter-widgets/controls",
            "_model_module_version": "1.5.0",
            "_model_name": "HBoxModel",
            "_view_count": null,
            "_view_module": "@jupyter-widgets/controls",
            "_view_module_version": "1.5.0",
            "_view_name": "HBoxView",
            "box_style": "",
            "children": [
              "IPY_MODEL_8141ee1a7c8c450083958bcce9aebc2d",
              "IPY_MODEL_1338823525434265aae3eafbf3c9fb50",
              "IPY_MODEL_57f8011f30234432816523e274d94e4c"
            ],
            "layout": "IPY_MODEL_311c91c6630d4bed9a5b622b00a31981"
          }
        },
        "8141ee1a7c8c450083958bcce9aebc2d": {
          "model_module": "@jupyter-widgets/controls",
          "model_name": "HTMLModel",
          "model_module_version": "1.5.0",
          "state": {
            "_dom_classes": [],
            "_model_module": "@jupyter-widgets/controls",
            "_model_module_version": "1.5.0",
            "_model_name": "HTMLModel",
            "_view_count": null,
            "_view_module": "@jupyter-widgets/controls",
            "_view_module_version": "1.5.0",
            "_view_name": "HTMLView",
            "description": "",
            "description_tooltip": null,
            "layout": "IPY_MODEL_f088d31295994dc19f537d0ea68a5fae",
            "placeholder": "​",
            "style": "IPY_MODEL_fd120c4eab4b42b4a20786b398468f33",
            "value": "100%"
          }
        },
        "1338823525434265aae3eafbf3c9fb50": {
          "model_module": "@jupyter-widgets/controls",
          "model_name": "FloatProgressModel",
          "model_module_version": "1.5.0",
          "state": {
            "_dom_classes": [],
            "_model_module": "@jupyter-widgets/controls",
            "_model_module_version": "1.5.0",
            "_model_name": "FloatProgressModel",
            "_view_count": null,
            "_view_module": "@jupyter-widgets/controls",
            "_view_module_version": "1.5.0",
            "_view_name": "ProgressView",
            "bar_style": "success",
            "description": "",
            "description_tooltip": null,
            "layout": "IPY_MODEL_79c01d56fe64497597708a44a513b06e",
            "max": 3,
            "min": 0,
            "orientation": "horizontal",
            "style": "IPY_MODEL_f02ba88e7d4547fa8975395088ee0f85",
            "value": 3
          }
        },
        "57f8011f30234432816523e274d94e4c": {
          "model_module": "@jupyter-widgets/controls",
          "model_name": "HTMLModel",
          "model_module_version": "1.5.0",
          "state": {
            "_dom_classes": [],
            "_model_module": "@jupyter-widgets/controls",
            "_model_module_version": "1.5.0",
            "_model_name": "HTMLModel",
            "_view_count": null,
            "_view_module": "@jupyter-widgets/controls",
            "_view_module_version": "1.5.0",
            "_view_name": "HTMLView",
            "description": "",
            "description_tooltip": null,
            "layout": "IPY_MODEL_32441578240e460a95df7265e7cb47aa",
            "placeholder": "​",
            "style": "IPY_MODEL_efd3ea1f6bb04cd79c800752d837fad2",
            "value": " 3/3 [00:00&lt;00:00, 49.10it/s]"
          }
        },
        "311c91c6630d4bed9a5b622b00a31981": {
          "model_module": "@jupyter-widgets/base",
          "model_name": "LayoutModel",
          "model_module_version": "1.2.0",
          "state": {
            "_model_module": "@jupyter-widgets/base",
            "_model_module_version": "1.2.0",
            "_model_name": "LayoutModel",
            "_view_count": null,
            "_view_module": "@jupyter-widgets/base",
            "_view_module_version": "1.2.0",
            "_view_name": "LayoutView",
            "align_content": null,
            "align_items": null,
            "align_self": null,
            "border": null,
            "bottom": null,
            "display": null,
            "flex": null,
            "flex_flow": null,
            "grid_area": null,
            "grid_auto_columns": null,
            "grid_auto_flow": null,
            "grid_auto_rows": null,
            "grid_column": null,
            "grid_gap": null,
            "grid_row": null,
            "grid_template_areas": null,
            "grid_template_columns": null,
            "grid_template_rows": null,
            "height": null,
            "justify_content": null,
            "justify_items": null,
            "left": null,
            "margin": null,
            "max_height": null,
            "max_width": null,
            "min_height": null,
            "min_width": null,
            "object_fit": null,
            "object_position": null,
            "order": null,
            "overflow": null,
            "overflow_x": null,
            "overflow_y": null,
            "padding": null,
            "right": null,
            "top": null,
            "visibility": null,
            "width": null
          }
        },
        "f088d31295994dc19f537d0ea68a5fae": {
          "model_module": "@jupyter-widgets/base",
          "model_name": "LayoutModel",
          "model_module_version": "1.2.0",
          "state": {
            "_model_module": "@jupyter-widgets/base",
            "_model_module_version": "1.2.0",
            "_model_name": "LayoutModel",
            "_view_count": null,
            "_view_module": "@jupyter-widgets/base",
            "_view_module_version": "1.2.0",
            "_view_name": "LayoutView",
            "align_content": null,
            "align_items": null,
            "align_self": null,
            "border": null,
            "bottom": null,
            "display": null,
            "flex": null,
            "flex_flow": null,
            "grid_area": null,
            "grid_auto_columns": null,
            "grid_auto_flow": null,
            "grid_auto_rows": null,
            "grid_column": null,
            "grid_gap": null,
            "grid_row": null,
            "grid_template_areas": null,
            "grid_template_columns": null,
            "grid_template_rows": null,
            "height": null,
            "justify_content": null,
            "justify_items": null,
            "left": null,
            "margin": null,
            "max_height": null,
            "max_width": null,
            "min_height": null,
            "min_width": null,
            "object_fit": null,
            "object_position": null,
            "order": null,
            "overflow": null,
            "overflow_x": null,
            "overflow_y": null,
            "padding": null,
            "right": null,
            "top": null,
            "visibility": null,
            "width": null
          }
        },
        "fd120c4eab4b42b4a20786b398468f33": {
          "model_module": "@jupyter-widgets/controls",
          "model_name": "DescriptionStyleModel",
          "model_module_version": "1.5.0",
          "state": {
            "_model_module": "@jupyter-widgets/controls",
            "_model_module_version": "1.5.0",
            "_model_name": "DescriptionStyleModel",
            "_view_count": null,
            "_view_module": "@jupyter-widgets/base",
            "_view_module_version": "1.2.0",
            "_view_name": "StyleView",
            "description_width": ""
          }
        },
        "79c01d56fe64497597708a44a513b06e": {
          "model_module": "@jupyter-widgets/base",
          "model_name": "LayoutModel",
          "model_module_version": "1.2.0",
          "state": {
            "_model_module": "@jupyter-widgets/base",
            "_model_module_version": "1.2.0",
            "_model_name": "LayoutModel",
            "_view_count": null,
            "_view_module": "@jupyter-widgets/base",
            "_view_module_version": "1.2.0",
            "_view_name": "LayoutView",
            "align_content": null,
            "align_items": null,
            "align_self": null,
            "border": null,
            "bottom": null,
            "display": null,
            "flex": null,
            "flex_flow": null,
            "grid_area": null,
            "grid_auto_columns": null,
            "grid_auto_flow": null,
            "grid_auto_rows": null,
            "grid_column": null,
            "grid_gap": null,
            "grid_row": null,
            "grid_template_areas": null,
            "grid_template_columns": null,
            "grid_template_rows": null,
            "height": null,
            "justify_content": null,
            "justify_items": null,
            "left": null,
            "margin": null,
            "max_height": null,
            "max_width": null,
            "min_height": null,
            "min_width": null,
            "object_fit": null,
            "object_position": null,
            "order": null,
            "overflow": null,
            "overflow_x": null,
            "overflow_y": null,
            "padding": null,
            "right": null,
            "top": null,
            "visibility": null,
            "width": null
          }
        },
        "f02ba88e7d4547fa8975395088ee0f85": {
          "model_module": "@jupyter-widgets/controls",
          "model_name": "ProgressStyleModel",
          "model_module_version": "1.5.0",
          "state": {
            "_model_module": "@jupyter-widgets/controls",
            "_model_module_version": "1.5.0",
            "_model_name": "ProgressStyleModel",
            "_view_count": null,
            "_view_module": "@jupyter-widgets/base",
            "_view_module_version": "1.2.0",
            "_view_name": "StyleView",
            "bar_color": null,
            "description_width": ""
          }
        },
        "32441578240e460a95df7265e7cb47aa": {
          "model_module": "@jupyter-widgets/base",
          "model_name": "LayoutModel",
          "model_module_version": "1.2.0",
          "state": {
            "_model_module": "@jupyter-widgets/base",
            "_model_module_version": "1.2.0",
            "_model_name": "LayoutModel",
            "_view_count": null,
            "_view_module": "@jupyter-widgets/base",
            "_view_module_version": "1.2.0",
            "_view_name": "LayoutView",
            "align_content": null,
            "align_items": null,
            "align_self": null,
            "border": null,
            "bottom": null,
            "display": null,
            "flex": null,
            "flex_flow": null,
            "grid_area": null,
            "grid_auto_columns": null,
            "grid_auto_flow": null,
            "grid_auto_rows": null,
            "grid_column": null,
            "grid_gap": null,
            "grid_row": null,
            "grid_template_areas": null,
            "grid_template_columns": null,
            "grid_template_rows": null,
            "height": null,
            "justify_content": null,
            "justify_items": null,
            "left": null,
            "margin": null,
            "max_height": null,
            "max_width": null,
            "min_height": null,
            "min_width": null,
            "object_fit": null,
            "object_position": null,
            "order": null,
            "overflow": null,
            "overflow_x": null,
            "overflow_y": null,
            "padding": null,
            "right": null,
            "top": null,
            "visibility": null,
            "width": null
          }
        },
        "efd3ea1f6bb04cd79c800752d837fad2": {
          "model_module": "@jupyter-widgets/controls",
          "model_name": "DescriptionStyleModel",
          "model_module_version": "1.5.0",
          "state": {
            "_model_module": "@jupyter-widgets/controls",
            "_model_module_version": "1.5.0",
            "_model_name": "DescriptionStyleModel",
            "_view_count": null,
            "_view_module": "@jupyter-widgets/base",
            "_view_module_version": "1.2.0",
            "_view_name": "StyleView",
            "description_width": ""
          }
        }
      }
    }
  },
  "cells": [
    {
      "cell_type": "markdown",
      "metadata": {
        "id": "view-in-github",
        "colab_type": "text"
      },
      "source": [
        "<a href=\"https://colab.research.google.com/github/HungPham2002/Text-Retrieval-Using-Pretrained-Embedding/blob/main/Text_Retrieval.ipynb\" target=\"_parent\"><img src=\"https://colab.research.google.com/assets/colab-badge.svg\" alt=\"Open In Colab\"/></a>"
      ]
    },
    {
      "cell_type": "markdown",
      "source": [
        "# Download MS Macro Dataset"
      ],
      "metadata": {
        "id": "9r5faCncYJGy"
      }
    },
    {
      "cell_type": "code",
      "execution_count": null,
      "metadata": {
        "colab": {
          "base_uri": "https://localhost:8080/"
        },
        "id": "d1UTNqywXb2U",
        "outputId": "cf73e9c9-0469-4233-9537-310aaba9cd97"
      },
      "outputs": [
        {
          "output_type": "stream",
          "name": "stdout",
          "text": [
            "Requirement already satisfied: datasets==2.13.1 in /usr/local/lib/python3.10/dist-packages (2.13.1)\n",
            "Requirement already satisfied: numpy>=1.17 in /usr/local/lib/python3.10/dist-packages (from datasets==2.13.1) (1.22.4)\n",
            "Requirement already satisfied: pyarrow>=8.0.0 in /usr/local/lib/python3.10/dist-packages (from datasets==2.13.1) (9.0.0)\n",
            "Requirement already satisfied: dill<0.3.7,>=0.3.0 in /usr/local/lib/python3.10/dist-packages (from datasets==2.13.1) (0.3.6)\n",
            "Requirement already satisfied: pandas in /usr/local/lib/python3.10/dist-packages (from datasets==2.13.1) (1.5.3)\n",
            "Requirement already satisfied: requests>=2.19.0 in /usr/local/lib/python3.10/dist-packages (from datasets==2.13.1) (2.27.1)\n",
            "Requirement already satisfied: tqdm>=4.62.1 in /usr/local/lib/python3.10/dist-packages (from datasets==2.13.1) (4.65.0)\n",
            "Requirement already satisfied: xxhash in /usr/local/lib/python3.10/dist-packages (from datasets==2.13.1) (3.2.0)\n",
            "Requirement already satisfied: multiprocess in /usr/local/lib/python3.10/dist-packages (from datasets==2.13.1) (0.70.14)\n",
            "Requirement already satisfied: fsspec[http]>=2021.11.1 in /usr/local/lib/python3.10/dist-packages (from datasets==2.13.1) (2023.6.0)\n",
            "Requirement already satisfied: aiohttp in /usr/local/lib/python3.10/dist-packages (from datasets==2.13.1) (3.8.4)\n",
            "Requirement already satisfied: huggingface-hub<1.0.0,>=0.11.0 in /usr/local/lib/python3.10/dist-packages (from datasets==2.13.1) (0.16.4)\n",
            "Requirement already satisfied: packaging in /usr/local/lib/python3.10/dist-packages (from datasets==2.13.1) (23.1)\n",
            "Requirement already satisfied: pyyaml>=5.1 in /usr/local/lib/python3.10/dist-packages (from datasets==2.13.1) (6.0)\n",
            "Requirement already satisfied: attrs>=17.3.0 in /usr/local/lib/python3.10/dist-packages (from aiohttp->datasets==2.13.1) (23.1.0)\n",
            "Requirement already satisfied: charset-normalizer<4.0,>=2.0 in /usr/local/lib/python3.10/dist-packages (from aiohttp->datasets==2.13.1) (2.0.12)\n",
            "Requirement already satisfied: multidict<7.0,>=4.5 in /usr/local/lib/python3.10/dist-packages (from aiohttp->datasets==2.13.1) (6.0.4)\n",
            "Requirement already satisfied: async-timeout<5.0,>=4.0.0a3 in /usr/local/lib/python3.10/dist-packages (from aiohttp->datasets==2.13.1) (4.0.2)\n",
            "Requirement already satisfied: yarl<2.0,>=1.0 in /usr/local/lib/python3.10/dist-packages (from aiohttp->datasets==2.13.1) (1.9.2)\n",
            "Requirement already satisfied: frozenlist>=1.1.1 in /usr/local/lib/python3.10/dist-packages (from aiohttp->datasets==2.13.1) (1.4.0)\n",
            "Requirement already satisfied: aiosignal>=1.1.2 in /usr/local/lib/python3.10/dist-packages (from aiohttp->datasets==2.13.1) (1.3.1)\n",
            "Requirement already satisfied: filelock in /usr/local/lib/python3.10/dist-packages (from huggingface-hub<1.0.0,>=0.11.0->datasets==2.13.1) (3.12.2)\n",
            "Requirement already satisfied: typing-extensions>=3.7.4.3 in /usr/local/lib/python3.10/dist-packages (from huggingface-hub<1.0.0,>=0.11.0->datasets==2.13.1) (4.7.1)\n",
            "Requirement already satisfied: urllib3<1.27,>=1.21.1 in /usr/local/lib/python3.10/dist-packages (from requests>=2.19.0->datasets==2.13.1) (1.26.16)\n",
            "Requirement already satisfied: certifi>=2017.4.17 in /usr/local/lib/python3.10/dist-packages (from requests>=2.19.0->datasets==2.13.1) (2023.5.7)\n",
            "Requirement already satisfied: idna<4,>=2.5 in /usr/local/lib/python3.10/dist-packages (from requests>=2.19.0->datasets==2.13.1) (3.4)\n",
            "Requirement already satisfied: python-dateutil>=2.8.1 in /usr/local/lib/python3.10/dist-packages (from pandas->datasets==2.13.1) (2.8.2)\n",
            "Requirement already satisfied: pytz>=2020.1 in /usr/local/lib/python3.10/dist-packages (from pandas->datasets==2.13.1) (2022.7.1)\n",
            "Requirement already satisfied: six>=1.5 in /usr/local/lib/python3.10/dist-packages (from python-dateutil>=2.8.1->pandas->datasets==2.13.1) (1.16.0)\n"
          ]
        }
      ],
      "source": [
        "!pip install datasets==2.13.1"
      ]
    },
    {
      "cell_type": "markdown",
      "source": [
        "# Load MS_MARCO"
      ],
      "metadata": {
        "id": "m9G_JAaqYhtQ"
      }
    },
    {
      "cell_type": "code",
      "source": [
        "from datasets import load_dataset"
      ],
      "metadata": {
        "id": "4k1BKrGDYIKh"
      },
      "execution_count": null,
      "outputs": []
    },
    {
      "cell_type": "code",
      "source": [
        "dataset = load_dataset('ms_marco', 'v1.1')"
      ],
      "metadata": {
        "colab": {
          "base_uri": "https://localhost:8080/",
          "height": 86,
          "referenced_widgets": [
            "b760fc417d1a4296830246752c632b11",
            "8141ee1a7c8c450083958bcce9aebc2d",
            "1338823525434265aae3eafbf3c9fb50",
            "57f8011f30234432816523e274d94e4c",
            "311c91c6630d4bed9a5b622b00a31981",
            "f088d31295994dc19f537d0ea68a5fae",
            "fd120c4eab4b42b4a20786b398468f33",
            "79c01d56fe64497597708a44a513b06e",
            "f02ba88e7d4547fa8975395088ee0f85",
            "32441578240e460a95df7265e7cb47aa",
            "efd3ea1f6bb04cd79c800752d837fad2"
          ]
        },
        "id": "Bk0-jL6tYIM9",
        "outputId": "aa3a5147-96f9-4cab-bc63-e717fe0ecad1"
      },
      "execution_count": null,
      "outputs": [
        {
          "output_type": "stream",
          "name": "stderr",
          "text": [
            "WARNING:datasets.builder:Found cached dataset ms_marco (/root/.cache/huggingface/datasets/ms_marco/v1.1/1.1.0/b6a62715fa5219aea5275dd3556601004cd63945cb63e36e022f77bb3cbbca84)\n"
          ]
        },
        {
          "output_type": "display_data",
          "data": {
            "text/plain": [
              "  0%|          | 0/3 [00:00<?, ?it/s]"
            ],
            "application/vnd.jupyter.widget-view+json": {
              "version_major": 2,
              "version_minor": 0,
              "model_id": "b760fc417d1a4296830246752c632b11"
            }
          },
          "metadata": {}
        }
      ]
    },
    {
      "cell_type": "code",
      "source": [
        "subnet = dataset['test']"
      ],
      "metadata": {
        "id": "ucVXtP6WYIPX"
      },
      "execution_count": null,
      "outputs": []
    },
    {
      "cell_type": "markdown",
      "source": [
        "# Extract text"
      ],
      "metadata": {
        "id": "kt7sZ2ymY-wn"
      }
    },
    {
      "cell_type": "code",
      "source": [
        "# Only use sample with type  = entity\n",
        "\n",
        "corpus = []\n",
        "for sample in subnet:\n",
        "  query_type = sample['query_type']\n",
        "  if query_type != 'entity':\n",
        "    continue\n",
        "  else:\n",
        "    query_id = sample['query_id']\n",
        "    query_str = sample['query']\n",
        "    passage_dict = sample['passages']\n",
        "    is_selected_lst = passage_dict['is_selected']\n",
        "    passage_text_lst = passage_dict['passage_text']\n",
        "\n",
        "    corpus  += passage_text_lst"
      ],
      "metadata": {
        "id": "NiFTQvcXYIRw"
      },
      "execution_count": null,
      "outputs": []
    },
    {
      "cell_type": "code",
      "source": [
        "# Load text and append to corpus"
      ],
      "metadata": {
        "id": "-eDxIPnqYIUb"
      },
      "execution_count": null,
      "outputs": []
    },
    {
      "cell_type": "code",
      "source": [
        "# query_id = sample['query_id']\n",
        "# query_str = sample['query']\n",
        "# passage_dict = sample['passages']\n",
        "# is_selected_lst = passage_dict['is_selected']\n",
        "# passage_text_lst = passage_dict['passage_text']\n",
        "\n",
        "# corpus  += passage_text_lst"
      ],
      "metadata": {
        "id": "wkU1FrUdYIW9"
      },
      "execution_count": null,
      "outputs": []
    },
    {
      "cell_type": "markdown",
      "source": [
        "# Normalization"
      ],
      "metadata": {
        "id": "RUoolbDvp1Wt"
      }
    },
    {
      "cell_type": "code",
      "source": [
        "import string\n",
        "import nltk\n",
        "nltk.download('stopwords')\n",
        "from nltk.corpus import stopwords\n",
        "from nltk.stem import PorterStemmer"
      ],
      "metadata": {
        "colab": {
          "base_uri": "https://localhost:8080/"
        },
        "id": "Y9R8BlZ2hKLH",
        "outputId": "ae6a3d59-2e54-4a3e-925e-ac2e2ef22b1e"
      },
      "execution_count": null,
      "outputs": [
        {
          "output_type": "stream",
          "name": "stderr",
          "text": [
            "[nltk_data] Downloading package stopwords to /root/nltk_data...\n",
            "[nltk_data]   Package stopwords is already up-to-date!\n"
          ]
        }
      ]
    },
    {
      "cell_type": "code",
      "source": [
        "\n",
        "# lowercase\n",
        "def lowercase(text):\n",
        "  return text.lower()\n",
        "\n",
        "# puntuation\n",
        "remove_chars = string.punctuation\n",
        "def remove_punctuation(text):\n",
        "  for char in remove_chars:\n",
        "    text = text.replace(char, '')\n",
        "\n",
        "  return text\n",
        "\n",
        "# stopwords\n",
        "stopwords_lst = stopwords.words('english')\n",
        "def remove_stopwords(text):\n",
        "  tokens = tokenize(text)\n",
        "  non_stopwords_lst = [\n",
        "      token for token in tokens \\\n",
        "        if token not in stopwords_lst\n",
        "  ]\n",
        "  new_text = ' '.join(non_stopwords_lst)\n",
        "  return new_text\n",
        "\n",
        "# stemming\n",
        "stemmer = PorterStemmer()\n",
        "def stemming(text):\n",
        "  tokens = tokenize(text)\n",
        "  stemmed_lst = [\n",
        "      stemmer.stem(token) for token in tokens\n",
        "  ]\n",
        "  new_text = ' '.join(stemmed_lst)\n",
        "\n",
        "  return new_text"
      ],
      "metadata": {
        "id": "N7N9DBmrp1gD"
      },
      "execution_count": null,
      "outputs": []
    },
    {
      "cell_type": "code",
      "source": [
        "def text_normalize(text):\n",
        "  text = lowercase(text)\n",
        "  text = remove_punctuation(text)\n",
        "  text = remove_stopwords(text)\n",
        "  text = stemming(text)\n",
        "  return text"
      ],
      "metadata": {
        "id": "V0uW9-oJp1lT"
      },
      "execution_count": null,
      "outputs": []
    },
    {
      "cell_type": "code",
      "source": [],
      "metadata": {
        "id": "4njgybzmp1or"
      },
      "execution_count": null,
      "outputs": []
    },
    {
      "cell_type": "code",
      "source": [],
      "metadata": {
        "id": "pjkjYsQvp1rn"
      },
      "execution_count": null,
      "outputs": []
    },
    {
      "cell_type": "markdown",
      "source": [
        "# Create Dictionary (bag-of-word)"
      ],
      "metadata": {
        "id": "EALgJG3AfL_m"
      }
    },
    {
      "cell_type": "code",
      "source": [
        "def tokenize(text):\n",
        "  return text.split()\n",
        "\n",
        "def create_dictionary(corpus):\n",
        "  dictionary = []\n",
        "  for doc in corpus:\n",
        "    noramalized_doc = text_normalize(doc)\n",
        "    tokens = tokenize(noramalized_doc)\n",
        "    for token in tokens:\n",
        "      if token not in dictionary:\n",
        "        dictionary.append(token)\n",
        "  return dictionary"
      ],
      "metadata": {
        "id": "cDcm3UoDYIZO"
      },
      "execution_count": null,
      "outputs": []
    },
    {
      "cell_type": "code",
      "source": [
        "dictionary = create_dictionary(corpus)"
      ],
      "metadata": {
        "id": "bNALBCbheZZ5"
      },
      "execution_count": null,
      "outputs": []
    },
    {
      "cell_type": "markdown",
      "source": [
        "# Vectorizer"
      ],
      "metadata": {
        "id": "UfJs_kT3lD-n"
      }
    },
    {
      "cell_type": "code",
      "source": [
        "def vectorize (text, dictionary):\n",
        "  word_count_dict = {word: 0 for word in dictionary}\n",
        "  normalized_text = text_normalize(text)\n",
        "  tokens = tokenize(normalized_text)\n",
        "  for token in tokens:\n",
        "    try:\n",
        "      word_count_dict[token] += 1\n",
        "    except:\n",
        "      pass\n",
        "  vector = list(word_count_dict.values())\n",
        "\n",
        "  return vector"
      ],
      "metadata": {
        "id": "D2it8arwf4gX"
      },
      "execution_count": null,
      "outputs": []
    },
    {
      "cell_type": "markdown",
      "source": [
        "# Indexing Code"
      ],
      "metadata": {
        "id": "5TRV2Nt_oK0T"
      }
    },
    {
      "cell_type": "code",
      "source": [
        "def create_doc_term_matrix(corpus, dictionary):\n",
        "  doc_term_matrix = {}\n",
        "  for idx, doc in enumerate(corpus):\n",
        "    vector  = vectorize(doc, dictionary)\n",
        "    doc_term_matrix[(doc, idx)] = vector\n",
        "\n",
        "  return doc_term_matrix"
      ],
      "metadata": {
        "id": "QRA82B44f4qk"
      },
      "execution_count": null,
      "outputs": []
    },
    {
      "cell_type": "code",
      "source": [
        "doc_term_matrix = create_doc_term_matrix(corpus, dictionary)"
      ],
      "metadata": {
        "id": "x6NQkKKyePlJ"
      },
      "execution_count": null,
      "outputs": []
    },
    {
      "cell_type": "markdown",
      "source": [
        "# Cosine Similarity"
      ],
      "metadata": {
        "id": "Sh2nYrZMi6TO"
      }
    },
    {
      "cell_type": "code",
      "source": [
        "from scipy import spatial"
      ],
      "metadata": {
        "id": "EQ2yHB7Tf4u2"
      },
      "execution_count": null,
      "outputs": []
    },
    {
      "cell_type": "code",
      "source": [
        "def similarity(a, b):\n",
        "  return 1-spatial.distance.cosine(a, b)"
      ],
      "metadata": {
        "id": "ne8c6tZii9W2"
      },
      "execution_count": null,
      "outputs": []
    },
    {
      "cell_type": "code",
      "source": [
        "def ranking(query, dictionary, doc_term_matrix):\n",
        "  query_vec = vectorize(query, dictionary)\n",
        "  scores = []\n",
        "  for doc_info, doc_vec in doc_term_matrix.items():\n",
        "    sim = similarity(query_vec, doc_vec)\n",
        "    scores.append((sim, doc_info))\n",
        "  scores.sort(reverse = True)\n",
        "\n",
        "  return scores\n"
      ],
      "metadata": {
        "id": "30HPs3PZi9gW"
      },
      "execution_count": null,
      "outputs": []
    },
    {
      "cell_type": "code",
      "source": [
        "query_lst = ['what condition leads to rain']\n",
        "top_k = 10\n",
        "for query in query_lst:\n",
        "  scores = ranking(query, dictionary, doc_term_matrix)\n",
        "  print(f'Query: {query}')\n",
        "  print('===== Relevant Docs ====')\n",
        "  for idx in range(top_k):\n",
        "    doc_score = scores[idx][0]\n",
        "    doc_content = scores[idx][1][0]\n",
        "\n",
        "    print(f'Top {idx + 1}; Score: {doc_score: .4f}')\n",
        "    print(doc_content)\n",
        "    print('\\n')"
      ],
      "metadata": {
        "id": "0RYmooSTi9ov",
        "colab": {
          "base_uri": "https://localhost:8080/"
        },
        "outputId": "3e9eea58-fb1b-4f34-8992-13fb42fa5c3e"
      },
      "execution_count": null,
      "outputs": [
        {
          "output_type": "stream",
          "name": "stdout",
          "text": [
            "Query: what condition leads to rain\n",
            "===== Relevant Docs ====\n",
            "Top 1; Score:  0.7107\n",
            "SectionsLatest Update: 07/21/97 Rain and Hail Atmospheric conditions that lead to the development of rain and hail. Freezing Rain A detailed look at freezing rain, associated dangers and the conditions that lead to its development. Sleet Atmospheric conditions that lead to the development of sleet. \n",
            "\n",
            "\n",
            "Top 2; Score:  0.3897\n",
            "Hypothermia occurs when your body loses heat faster than it produces it. The most common causes of hypothermia are exposure to cold-weather conditions or cold water. But prolonged exposure to any environment colder than your body can lead to hypothermia if you aren't dressed appropriately or can't control the conditions. Specific conditions leading to hypothermia include: 1  Wearing clothes that aren't warm enough for weather conditions. 2  Staying out in the cold too long.\n",
            "\n",
            "\n",
            "Top 3; Score:  0.3586\n",
            "• PB (noun). The noun PB has 1 sense: 1. a soft heavy toxic malleable metallic element; bluish white when freshly cut but tarnishes readily to dull grey. Familiarity information: PB used as a noun is very rare. Hyponyms (each of the following is a kind of Pb): hard lead (unrefined lead that is hard because of the impurities it contains). antimonial lead; hard lead (a lead alloy that contains about 5% antimony). pig lead (lead that is cast in pigs).\n",
            "\n",
            "\n",
            "Top 4; Score:  0.3563\n",
            "High pressure leads to stable air conditions. When the ground is heated, the air will not rise. If air does not rise, rain cannot condense. Convection rain requires a warm ground and low pressure. It causes short showers interspaced with sunny periods.\n",
            "\n",
            "\n",
            "Top 5; Score:  0.3109\n",
            "**** Rainforests by Michael G. 2001 In an average year the climate in a tropical rain forest is very humid because of all the rainfall. A tropical rainforest gets about 150 cm of rain per year. It gets lots of rain because it is very hot and wet in rain forests. The hotter the air, the more water vapor it can hold. An average of 50 to 260 inches (125 to 660 cm.) of rain falls yearly. Rain forests belong to the tropical wet climate group. The temperature in a rain forest rarely gets higher than 93 °F (34 °C) or drops below 68 °F (20 °C); average humidity is between 77 and 88%; rainfall is often more than 100 inches a year.\n",
            "\n",
            "\n",
            "Top 6; Score:  0.3086\n",
            "Kidney Disorders and Conditions. While most renal disorders are not hereditary, some kidney conditions have known inherited genetic components. Common hereditary kidney disorders include: 1  Autosomal Dominant Polycystic Kidney Disease, a generally late-onset condition that leads to progressive cyst development.\n",
            "\n",
            "\n",
            "Top 7; Score:  0.3062\n",
            "Iron and Iron Deficiency Related Diseases & Conditions. Medical conditions are often related to other diseases and conditions. Our doctors have compiled a list of ailments related to the topic of Iron and Iron Deficiency. These conditions may be a cause or symptom of Iron and Iron Deficiency or be a condition for which you may be at increased risk. Anemia Anemia is the condition of having less than the normal number of red blood cells or less than the normal quantity of hemoglobin...learn more ». \n",
            "\n",
            "\n",
            "Top 8; Score:  0.2791\n",
            "Food Poisoning Related Diseases & Conditions. Medical conditions are often related to other diseases and conditions. Our doctors have compiled a list of ailments related to the topic of Food Poisoning. These conditions may be a cause or symptom of Food Poisoning or be a condition for which you may be at increased risk. Staph Infection (Staphylococcus Aureus) Staphylococcus or Staph is a group of bacteria that can cause a multitude of diseases. Staph infections can cause illness...learn more ».\n",
            "\n",
            "\n",
            "Top 9; Score:  0.2780\n",
            "The urban heat island effect leads to increased rainfall, both in amounts and intensity, downwind of cities. Global warming is also causing changes in the precipitation pattern globally, including wetter conditions across eastern North America and drier conditions in the tropics. When air turbulence occurs, water droplets collide, producing larger droplets. As these larger water droplets descend, coalescence continues, so that drops become heavy enough to overcome air resistance and fall as rain.\n",
            "\n",
            "\n",
            "Top 10; Score:  0.2649\n",
            "When Westie Lung Disease or any other respiratory problem is advanced, treatment with a nebulizer can help your pet breath in times of distress. The dog is put in its crate and the door and holes are covered with a cloth or towel. The nebulizer pumps in medication through tubing. The condition is more accurately described as Pulmonary Fibrosis; a condition in which scar tissue forms in the connective tissue that supports the tiny air sacs (alveoli) in the lungs. Scarring can be a reaction to a large number of diseases and conditions that lead to inflammation of lung tissue.\n",
            "\n",
            "\n"
          ]
        }
      ]
    }
  ]
}